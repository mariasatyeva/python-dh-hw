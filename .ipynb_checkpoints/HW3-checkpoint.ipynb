{
 "cells": [
  {
   "cell_type": "markdown",
   "metadata": {},
   "source": [
    "# ДЗ 3. Неоцениваемое"
   ]
  },
  {
   "cell_type": "markdown",
   "metadata": {},
   "source": [
    "### Задание 1\n",
    "\n",
    "Напишите программу, которая по данному числу n от 1 до 9 выводит на экран n пингвинов."
   ]
  },
  {
   "cell_type": "code",
   "execution_count": null,
   "metadata": {},
   "outputs": [],
   "source": [
    "number = input(\"Пожалуйста, введите число от 1 до 9: \")\n",
    "number = int(number)\n",
    "if number < 1 or number > 9:\n",
    "    print(\"Я же сказал, от 1 до 9\")\n",
    "else: \n",
    "    print(\"   _~_    \" * number)\n",
    "    print(\"  (o o)   \" * number)\n",
    "    print(\" /  V  \\  \" * number)\n",
    "    print(\"/(  _  )\\ \" * number)\n",
    "    print(\"  ^^ ^^   \" * number)\n",
    "    "
   ]
  },
  {
   "cell_type": "markdown",
   "metadata": {},
   "source": [
    "### Задание 2\n",
    "\n",
    "Возьмите строку, состоящую из нескольких слов, разделенных пробелами. Программа должна напечатать количество слов."
   ]
  },
  {
   "cell_type": "code",
   "execution_count": 18,
   "metadata": {},
   "outputs": [
    {
     "name": "stdout",
     "output_type": "stream",
     "text": [
      "Вставьте какое-нибудь предложение: Привет\n",
      "В предложении вот столько слов:\n",
      "1\n"
     ]
    }
   ],
   "source": [
    "line = input(\"Вставьте какое-нибудь предложение: \")\n",
    "words = line.split()\n",
    "print(\"В предложении вот столько слов:\")\n",
    "print(len(words))"
   ]
  },
  {
   "cell_type": "markdown",
   "metadata": {},
   "source": [
    "### Задание 3\n",
    "\n",
    "Придумать свою задачу. "
   ]
  },
  {
   "cell_type": "code",
   "execution_count": 19,
   "metadata": {},
   "outputs": [
    {
     "name": "stdout",
     "output_type": "stream",
     "text": [
      "На каком курсе вы учитесь?\n",
      "4\n",
      "Финишная прямая\n"
     ]
    }
   ],
   "source": [
    "course = input(\"На каком курсе вы учитесь?\\n\")\n",
    "course = int(course)\n",
    "\n",
    "if course > 5 and course <= 7:\n",
    "    print(\"Вы медик, сожалею\")\n",
    "elif course == 5 or course == 4:\n",
    "    print(\"Финишная прямая\")\n",
    "elif course > 0 and course < 4:\n",
    "    print(\"У вас еще все впереди\")\n",
    "else:\n",
    "    print(\"???\")"
   ]
  },
  {
   "cell_type": "code",
   "execution_count": null,
   "metadata": {},
   "outputs": [],
   "source": []
  }
 ],
 "metadata": {
  "kernelspec": {
   "display_name": "Python 3",
   "language": "python",
   "name": "python3"
  },
  "language_info": {
   "codemirror_mode": {
    "name": "ipython",
    "version": 3
   },
   "file_extension": ".py",
   "mimetype": "text/x-python",
   "name": "python",
   "nbconvert_exporter": "python",
   "pygments_lexer": "ipython3",
   "version": "3.6.4"
  }
 },
 "nbformat": 4,
 "nbformat_minor": 2
}
