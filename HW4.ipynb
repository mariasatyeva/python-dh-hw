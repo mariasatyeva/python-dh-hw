{
 "cells": [
  {
   "cell_type": "markdown",
   "metadata": {},
   "source": [
    "# ДЗ 4. Неоцениваемое"
   ]
  },
  {
   "cell_type": "markdown",
   "metadata": {},
   "source": [
    "### Задание 1\n",
    "\n",
    "Выведите определенные символы из длинной строки. Cначала выведите третий символ этой строки. Во второй строке выведите предпоследний символ этой строки. В третьей строке выведите первые пять символов этой строки. В четвертой строке выведите всю строку, кроме последних двух символов. В пятой строке выведите все символы с четными индексами (считая, что индексация начинается с 0, поэтому символы выводятся начиная с первого). В шестой строке выведите все символы с нечетными индексами, то есть начиная со второго символа строки. В седьмой строке выведите все символы в обратном порядке. В восьмой строке выведите все символы строки через один в обратном порядке, начиная с последнего. В девятой строке выведите длину данной строки."
   ]
  },
  {
   "cell_type": "code",
   "execution_count": 95,
   "metadata": {},
   "outputs": [
    {
     "name": "stdout",
     "output_type": "stream",
     "text": [
      "m\n",
      "n\n",
      "Tomor\n",
      "Tomorrow belongs to those who can hear it comi\n",
      "Tmro eog otoewocnha tcmn\n",
      "oorwblnst hs h a eri oig\n",
      "gnimoc ti raeh nac ohw esoht ot sgnoleb worromoT\n",
      "gio ire a h sh tsnlbwroo\n",
      "48\n"
     ]
    }
   ],
   "source": [
    "line = \"Tomorrow belongs to those who can hear it coming\"\n",
    "letters = list(line)\n",
    "\n",
    "print(letters[2])\n",
    "\n",
    "print(letters[-2])\n",
    "\n",
    "third = letters[0:5]\n",
    "for i in third:\n",
    "    print(i, end='')\n",
    "\n",
    "print()  \n",
    "# я так и не поняла, как нормально сделать переход на новую строку\n",
    "# поэтому использовала пустой print\n",
    "\n",
    "fourth = letters[0:-2] \n",
    "for a in fourth:\n",
    "    print(a, end='')\n",
    "\n",
    "print()     \n",
    "    \n",
    "for even in range(len(letters)):\n",
    "    if even % 2 == 0:\n",
    "        print(letters[even], end='')\n",
    "        \n",
    "print()\n",
    "        \n",
    "for odd in range(len(letters)):\n",
    "    if odd % 2 != 0:\n",
    "        print(letters[odd], end='')\n",
    "\n",
    "print()        \n",
    "        \n",
    "    \n",
    "seventh = letters[::-1] \n",
    "for s in seventh:\n",
    "    print(s, end='') \n",
    "    \n",
    "print()\n",
    "    \n",
    "for x in range(len(seventh)):\n",
    "    if x % 2 == 0:\n",
    "        print(seventh[x], end='')\n",
    "\n",
    "print()        \n",
    "\n",
    "print(len(letters))"
   ]
  },
  {
   "cell_type": "markdown",
   "metadata": {},
   "source": [
    "### Задание 2\n",
    "\n",
    "Вася хочет проверить, верно ли, что данная текстовая строка читается слева направо и справа налево одинаково. Помогите Васе написать такую программу."
   ]
  },
  {
   "cell_type": "code",
   "execution_count": 28,
   "metadata": {},
   "outputs": [
    {
     "name": "stdout",
     "output_type": "stream",
     "text": [
      "YES\n",
      "NO\n"
     ]
    }
   ],
   "source": [
    "palindrome = \"saippuakivikauppias\" \n",
    "# \"продавец мыла\" по-фински\n",
    "no_palindrome = \"kirjoitustaidoton\"\n",
    "# \"неграмотный\" по-фински\n",
    "list1 = list(palindrome)\n",
    "list2 = list1[::-1]\n",
    "if str(list1) == str(list2):\n",
    "    print(\"YES\")\n",
    "else:\n",
    "    print(\"NO\")\n",
    "    \n",
    "list3 = list(no_palindrome)\n",
    "list4 = list3[::-1]\n",
    "if str(list3) == str(list4):\n",
    "    print(\"YES\")\n",
    "else:\n",
    "    print(\"NO\")"
   ]
  },
  {
   "cell_type": "markdown",
   "metadata": {},
   "source": [
    "### Задание 3\n",
    "\n",
    "Сформируйте такой лист под названием my_list. Затем добавьте еще один элемент под названием elem с помощью метода append, и напечатайте количество элементов в измененном списке, используя специальную функцию."
   ]
  },
  {
   "cell_type": "code",
   "execution_count": 34,
   "metadata": {},
   "outputs": [
    {
     "name": "stdout",
     "output_type": "stream",
     "text": [
      "['one', 'two', 'three']\n",
      "Добавим еще один элемент: four\n",
      "['one', 'two', 'three', 'four']\n",
      "Теперь в списке столько элементов:\n",
      "4\n"
     ]
    }
   ],
   "source": [
    "my_list = ['one', 'two', 'three']\n",
    "print(my_list)\n",
    "elem = input(\"Добавим еще один элемент: \")\n",
    "my_list.append(elem)\n",
    "print(my_list)\n",
    "print(\"Теперь в списке столько элементов:\")\n",
    "print(len(my_list)) "
   ]
  },
  {
   "cell_type": "code",
   "execution_count": null,
   "metadata": {},
   "outputs": [],
   "source": []
  }
 ],
 "metadata": {
  "kernelspec": {
   "display_name": "Python 3",
   "language": "python",
   "name": "python3"
  },
  "language_info": {
   "codemirror_mode": {
    "name": "ipython",
    "version": 3
   },
   "file_extension": ".py",
   "mimetype": "text/x-python",
   "name": "python",
   "nbconvert_exporter": "python",
   "pygments_lexer": "ipython3",
   "version": "3.6.4"
  }
 },
 "nbformat": 4,
 "nbformat_minor": 2
}
